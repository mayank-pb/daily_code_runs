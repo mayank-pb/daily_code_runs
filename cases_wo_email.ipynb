{
 "cells": [
  {
   "cell_type": "code",
   "execution_count": 1,
   "id": "1c4d35b0",
   "metadata": {},
   "outputs": [],
   "source": [
    "# pip install pygsheets\n",
    "# pip install pymssql\n",
    "\n",
    "import pandas as pd\n",
    "import pygsheets\n",
    "import calendar\n",
    "import numpy as np\n",
    "import sys\n",
    "# from pyhive import presto\n",
    "# import psycopg2\n",
    "from datetime import datetime,timedelta,date\n",
    "import logging\n",
    "import time\n",
    "import glob\n",
    "import datetime as dt\n",
    "\n",
    "logging.basicConfig(level=logging.INFO, format=\"%(asctime)-15s %(levelname)-8s %(message)s\")\n",
    "pd.set_option('display.max_columns', None)\n",
    "pd.set_option('display.max_rows', 200)\n",
    "\n",
    "service_file = './test-367816-470c46e2b23a.json'",
    "gc = pygsheets.authorize(service_file=service_file)\n",
    "\n",
    "import pymssql\n",
    "\n",
    "def exp_backoff(conn, query, queryName, updateQuery=False, commit = True):\n",
    "        exp_time = [32, 64, 128, 256, 512, 0]\n",
    "        resultDataframe = pd.DataFrame()\n",
    "        \n",
    "        for sleepTime in exp_time:\n",
    "            try:\n",
    "                logging.info(\"Executing query...\")\n",
    "                start_time = time.time()\n",
    "                cursor = conn.cursor()\n",
    "                logging.debug(\"Query: %s\"%(query))\n",
    "                cursor.execute(query)\n",
    "                if updateQuery==False:\n",
    "                    resultDataframe = pd.DataFrame(cursor.fetchall(), columns = [desc[0] for desc in cursor.description])\n",
    "                    dim = resultDataframe.shape\n",
    "                else:\n",
    "                    dim = cursor.rowcount\n",
    "                if updateQuery and commit:\n",
    "                    conn.commit()\n",
    "                elapsed_time = time.time() - start_time\n",
    "                logging.info(\"Query: %s | Time Taken: %s mins and %s secs | Dimension: %s\"%(queryName,int(elapsed_time/60),int(elapsed_time%60),dim))\n",
    "                if updateQuery==False:\n",
    "                    return resultDataframe\n",
    "                return\n",
    "            except:\n",
    "                logging.error(\"Unexpected error: %s\"%(sys.exc_info()[0]))\n",
    "                logging.error(traceback.print_exc())\n",
    "                logging.error(\"Retrying %s in %s seconds\"%(queryName, sleepTime))\n",
    "                time.sleep(sleepTime)\n",
    "        \n",
    "        logging.error(\"Exceded no. of tries....\")\n",
    "        sys.exit()\n",
    "        \n",
    "\n",
    "conn = pymssql.connect(server='PB-PROD-SEC1',user='Anantjindal',password='Anant@406&#!Live#@')\n",
    "# sh=gc.open_by_key(\"1H4PF2EuoFGntZLr3-GEi_CY94k4zRHiSdTG6ooTSlIc\")\n",
    "# city_cat=sh.worksheet_by_title(\"All\")\n",
    "# city_cat = pd.DataFrame(city_cat.get_as_df(numerize=True))\n",
    "# city_cat = city_cat[[\"city\",\"city_cat\"]]\n",
    "# city_cat.columns"
   ]
  },
  {
   "cell_type": "code",
   "execution_count": 2,
   "id": "92232fa8",
   "metadata": {},
   "outputs": [
    {
     "name": "stderr",
     "output_type": "stream",
     "text": [
      "2022-11-20 22:21:42,047 INFO     Executing query...\n",
      "2022-11-20 22:21:52,579 INFO     Query: supplier_query | Time Taken: 0 mins and 10 secs | Dimension: (7, 2)\n"
     ]
    }
   ],
   "source": [
    "supplier_query = \"\"\"select rl.SupplierID, count (distinct bd.matrixleadid) as 'Case Count'\n",
    "from healthdb.ren.RenewalLeads rl\n",
    "inner join Healthdb.ren.ProposerBookingDetails bd on bd.ProposerID=rl.ProposerID\n",
    "where rl.CreatedOn > GETDATE()-60\n",
    "and bd.BookingStatus not in (3,6,9)\n",
    "and bd.matrixleadid not in \n",
    "(select distinct matrixleadid from Healthdb.ren.EmailTriggersHistory where createdon > '2022-09-01')\n",
    "group by  rl.SupplierID\n",
    "order by 'Case Count' desc\"\"\"\n",
    "\n",
    "supplier_data = exp_backoff(conn,supplier_query,'supplier_query')\n",
    "\n",
    "# sh = gc.open_by_key('1X3jt5xs_8tXL3H32p4oA0EiHe0mbiDbYdLMkHYMJydQ')\n",
    "# wks=sh.worksheet_by_title(\"case_wo_email\")\n",
    "# wks.clear(start='A',end='B')\n",
    "# wks.set_dataframe(supplier_data,(1,1))"
   ]
  },
  {
   "cell_type": "code",
   "execution_count": 3,
   "id": "d59f3c6a",
   "metadata": {},
   "outputs": [
    {
     "name": "stderr",
     "output_type": "stream",
     "text": [
      "2022-11-18 10:27:12,022 INFO     Executing query...\n",
      "2022-11-18 10:27:13,060 INFO     Query: trigger_query | Time Taken: 0 mins and 1 secs | Dimension: (14, 2)\n"
     ]
    }
   ],
   "source": [
    "trigger_query = \"\"\"select TriggerName, count (distinct bd.MatrixLeadId) as 'Lead Count'\n",
    "from healthdb.ren.RenewalLeads rl (nolock)\n",
    "inner join Healthdb.ren.ProposerBookingDetails bd (nolock) on bd.ProposerID=rl.ProposerID\n",
    "inner join Healthdb.ren.EmailTriggersHistory eh (nolock) on eh.MatrixLeadID=bd.MatrixLeadId\n",
    "and applicable=1\n",
    "where rl.CreatedOn> GETDATE()-90\n",
    "and convert(date,eh.CreatedOn) = convert(date,GETDATE()-1) and rl.productid=2\n",
    "group by TriggerName \n",
    "order by 'Lead Count' desc\"\"\"\n",
    "\n",
    "trigger_data = exp_backoff(conn,trigger_query,'trigger_query')\n",
    "\n",
    "sh = gc.open_by_key('1X3jt5xs_8tXL3H32p4oA0EiHe0mbiDbYdLMkHYMJydQ')\n",
    "wks=sh.worksheet_by_title(\"trigger\")\n",
    "wks.clear(start='A',end='B')\n",
    "wks.set_dataframe(trigger_data,(1,1))"
   ]
  },
  {
   "cell_type": "code",
   "execution_count": 4,
   "id": "0f79d425",
   "metadata": {},
   "outputs": [],
   "source": [
    "conn.close()"
   ]
  },
  {
   "cell_type": "code",
   "execution_count": 5,
   "id": "de89ca99",
   "metadata": {},
   "outputs": [],
   "source": [
    "# import smtplib\n",
    "# email_conn = smtplib.SMTP('smtp.gmail.com',587)\n",
    "# print(type(email_conn))\n",
    "# email_conn.ehlo()\n",
    "# email_conn.starttls()\n",
    "\n",
    "# email_conn.login('mayankkanojia@policybazaar.com','yclnckhdmcxdsxvm')\n",
    "\n",
    "# sender_email = \"mayankkanojia@policybazaar.com\"\n",
    "# receiver_email = \"harshsingh@policybazaar.com\"\n",
    "# message = \"\"\"\\\n",
    "# Subject: Hi Harsh\n",
    "\n",
    "# This message is a test message sent from Python \n",
    "# {}.\"\"\".format(trigger_data)\n",
    "\n",
    "\n",
    "# email_conn.sendmail(sender_email,receiver_email,message)"
   ]
  },
  {
   "cell_type": "code",
   "execution_count": 6,
   "id": "ab545f9d",
   "metadata": {},
   "outputs": [],
   "source": [
    "date = str(dt.date.today())\n",
    "date = datetime.strptime(date, '%Y-%m-%d')\n",
    "formatted_date = date.strftime('%d-%b-%Y')"
   ]
  },
  {
   "cell_type": "code",
   "execution_count": 7,
   "id": "b925fe7c",
   "metadata": {},
   "outputs": [],
   "source": [
    "from smtplib import SMTP\n",
    "from email.mime.text import MIMEText\n",
    "from email.mime.multipart import MIMEMultipart\n",
    "from pretty_html_table import build_table\n",
    "\n",
    "def send_mail(body):\n",
    "\n",
    "    message = MIMEMultipart()\n",
    "    message['Subject'] = 'Supplier Wise Emails Remaining - {}'.format(formatted_date)\n",
    "    message['From'] = 'mayankkanojia@policybazaar.com'\n",
    "#     message['To'] = 'tushargupta@policybazaar.com'\n",
    "#     message['CC'] = 'rohan@policybazaar.com, jitin@policybazaar.com'\n",
    "    message['To'] = 'mayankkanojia@policybazaar.com'\n",
    "    message['CC'] = 'mayankkanojia@policybazaar.com, mayankkanojia@policybazaar.com'\n",
    "    body_content = body\n",
    "    message.attach(MIMEText(body_content, \"html\"))\n",
    "    msg_body = message.as_string()\n",
    "    server = SMTP('smtp.gmail.com', 587)\n",
    "    server.starttls()\n",
    "    server.login(message['From'], 'yclnckhdmcxdsxvm')\n",
    "    server.sendmail(message['From'], message['To'], msg_body)\n",
    "    server.quit()"
   ]
  },
  {
   "cell_type": "code",
   "execution_count": 8,
   "id": "13b003f2",
   "metadata": {},
   "outputs": [],
   "source": [
    "supplier_data_table = build_table(supplier_data, 'blue_light')\n",
    "trigger_data_table = build_table(trigger_data, 'blue_light')"
   ]
  },
  {
   "cell_type": "code",
   "execution_count": 9,
   "id": "e360e9ef",
   "metadata": {},
   "outputs": [],
   "source": [
    "body = \"\"\"Hi All<p><p>\n",
    "Please find the daily reports on:<p><p>\n",
    "<b><u>1. Remaining Cases - Supplier Wise</u></b><p><p> \n",
    "{}<p><p>\n",
    "<b><u>2. Lead Count against TriggerName</u></b><p><p> \n",
    "{}<p><p>\n",
    "Regards<br> \n",
    "Mayank Kanojia<br>\n",
    "Lead BA<br>\n",
    "Product\"\"\".format(supplier_data_table,trigger_data_table)\n",
    "# body1 = MIMEText(body, \"html\")\n",
    "# body2 = body1.as_string()"
   ]
  },
  {
   "cell_type": "code",
   "execution_count": 10,
   "id": "98ad65eb",
   "metadata": {},
   "outputs": [],
   "source": [
    "send_mail(body)"
   ]
  }
 ],
 "metadata": {
  "kernelspec": {
   "display_name": "Python 3 (ipykernel)",
   "language": "python",
   "name": "python3"
  },
  "language_info": {
   "codemirror_mode": {
    "name": "ipython",
    "version": 3
   },
   "file_extension": ".py",
   "mimetype": "text/x-python",
   "name": "python",
   "nbconvert_exporter": "python",
   "pygments_lexer": "ipython3",
   "version": "3.9.7"
  }
 },
 "nbformat": 4,
 "nbformat_minor": 5
}
